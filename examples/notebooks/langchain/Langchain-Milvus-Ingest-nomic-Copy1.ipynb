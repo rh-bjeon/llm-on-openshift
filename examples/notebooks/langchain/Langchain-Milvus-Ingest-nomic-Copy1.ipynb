{
 "cells": [
  {
   "cell_type": "markdown",
   "id": "3420575b-4d00-458b-aa0e-7030008ccd53",
   "metadata": {},
   "source": [
    "## Creating an index and populating it with documents using Milvus and Nomic AI Embeddings\n",
    "\n",
    "Simple example on how to ingest PDF documents, then web pages content into a Milvus VectorStore. . In this example, the embeddings are the fully open source ones released by NomicAI, [nomic-embed-text-v1](https://huggingface.co/nomic-ai/nomic-embed-text-v1).\n",
    "\n",
    "As described in [this blog post](https://blog.nomic.ai/posts/nomic-embed-text-v1), those embeddings feature a \"8192 context-length that outperforms OpenAI Ada-002 and text-embedding-3-small on both short and long context tasks\". In additions, they are:\n",
    "\n",
    "- Open source\n",
    "- Open data\n",
    "- Open training code\n",
    "- Fully reproducible and auditable\n",
    "\n",
    "Requirements:\n",
    "- A Milvus instance, either standalone or cluster."
   ]
  },
  {
   "cell_type": "markdown",
   "id": "8308b229-b520-4e82-a783-eb921bb955e7",
   "metadata": {},
   "source": [
    "### Needed packages and imports"
   ]
  },
  {
   "cell_type": "code",
   "execution_count": 1,
   "id": "91e41b41-f60a-4b0f-91a1-cd273b60f21b",
   "metadata": {
    "tags": []
   },
   "outputs": [
    {
     "name": "stdout",
     "output_type": "stream",
     "text": [
      "\n",
      "\u001b[1m[\u001b[0m\u001b[34;49mnotice\u001b[0m\u001b[1;39;49m]\u001b[0m\u001b[39;49m A new release of pip is available: \u001b[0m\u001b[31;49m23.2.1\u001b[0m\u001b[39;49m -> \u001b[0m\u001b[32;49m24.0\u001b[0m\n",
      "\u001b[1m[\u001b[0m\u001b[34;49mnotice\u001b[0m\u001b[1;39;49m]\u001b[0m\u001b[39;49m To update, run: \u001b[0m\u001b[32;49mpip install --upgrade pip\u001b[0m\n"
     ]
    }
   ],
   "source": [
    "!pip install -q einops==0.7.0 langchain==0.1.9 pypdf==4.0.2 pymilvus==2.3.6 sentence-transformers==2.4.0"
   ]
  },
  {
   "cell_type": "code",
   "execution_count": 2,
   "id": "600cd763-6ecc-4c77-89c0-47108c31c44e",
   "metadata": {
    "tags": []
   },
   "outputs": [],
   "source": [
    "import requests\n",
    "import os\n",
    "from langchain.document_loaders import PyPDFDirectoryLoader, WebBaseLoader\n",
    "from langchain.text_splitter import RecursiveCharacterTextSplitter\n",
    "from langchain.embeddings.huggingface import HuggingFaceEmbeddings\n",
    "from langchain_community.vectorstores import Milvus\n",
    "from sentence_transformers import SentenceTransformer"
   ]
  },
  {
   "cell_type": "markdown",
   "id": "1a82063d-6153-4812-8977-042241736b53",
   "metadata": {},
   "source": [
    "### Base parameters, the Milvus connection info"
   ]
  },
  {
   "cell_type": "code",
   "execution_count": 3,
   "id": "417ed4a4-9418-4f48-bebd-ef0ea11ae434",
   "metadata": {
    "tags": []
   },
   "outputs": [],
   "source": [
    "MILVUS_HOST = \"vectordb-milvus.milvus.svc.cluster.local\"\n",
    "MILVUS_PORT = 19530\n",
    "MILVUS_USERNAME = os.getenv('MILVUS_USERNAME')\n",
    "MILVUS_PASSWORD = os.getenv('MILVUS_PASSWORD')\n",
    "MILVUS_COLLECTION = \"collection_nomicai_embeddings\""
   ]
  },
  {
   "cell_type": "markdown",
   "id": "f68f6785-480e-4519-be4f-8e1738dba4ca",
   "metadata": {},
   "source": [
    "## Initial index creation and document ingestion"
   ]
  },
  {
   "cell_type": "markdown",
   "id": "f8cff5f7-c509-48db-90b5-e15815b8b530",
   "metadata": {},
   "source": [
    "#### Download and load pdfs"
   ]
  },
  {
   "cell_type": "code",
   "execution_count": 5,
   "id": "bc4fe0db-f494-4cbd-9e97-8b6359a78cb7",
   "metadata": {
    "tags": []
   },
   "outputs": [],
   "source": [
    "product_version = 4.14\n",
    "#language = en-us\n",
    "#product_name = red_hat_openshift_ai_self-managed\n",
    "lang = \"ko-kr\"\n",
    "product_name = \"openshift_container_platform\"\n",
    "\n",
    "documents = [\n",
    "    \"release_notes\",\n",
    "    \"authentication_and_authorization\",\n",
    "    \"getting_started\",\n",
    "    \"security_and_compliance\",\n",
    "    \"architecture\",\n",
    "    \"machine_management\"\n",
    "]\n",
    "\n",
    "pdfs = [f\"https://access.redhat.com/documentation/{lang}/{product_name}/{product_version}/pdf/{doc}/{product_name}-{product_version}-{doc}-{lang}.pdf\" for doc in documents]\n",
    "pdfs_to_urls = {f\"{product_name}-{product_version}-{doc}-{lang}\": f\"https://access.redhat.com/documentation/{lang}/{product_name}/{product_version}/html-single/{doc}/index\" for doc in documents}"
   ]
  },
  {
   "cell_type": "code",
   "execution_count": 5,
   "id": "3eea5acc-49df-41c9-a01a-0cdbca96e8e2",
   "metadata": {
    "tags": []
   },
   "outputs": [],
   "source": [
    "os.mkdir(f\"rhocp-doc-{product_version}\")\n",
    "\n",
    "for pdf in pdfs:\n",
    "    try:\n",
    "        response = requests.get(pdf)\n",
    "    except:\n",
    "        print(f\"Skipped {pdf}\")\n",
    "        continue\n",
    "    if response.status_code!=200:\n",
    "        print(f\"Skipped {pdf}\")\n",
    "        continue  \n",
    "    with open(f\"rhocp-doc-{product_version}/{pdf.split('/')[-1]}\", 'wb') as f:\n",
    "        f.write(response.content)"
   ]
  },
  {
   "cell_type": "code",
   "execution_count": 6,
   "id": "af4074d4-eff4-45b2-902d-ec8c075a83ef",
   "metadata": {
    "tags": []
   },
   "outputs": [],
   "source": [
    "pdf_folder_path = f\"./rhocp-doc-{product_version}\"\n",
    "\n",
    "pdf_loader = PyPDFDirectoryLoader(pdf_folder_path)\n",
    "pdf_docs = pdf_loader.load()"
   ]
  },
  {
   "cell_type": "markdown",
   "id": "cde7ed3a-0530-47a1-95c2-22db6c782a95",
   "metadata": {},
   "source": [
    "#### Inject metadata"
   ]
  },
  {
   "cell_type": "code",
   "execution_count": null,
   "id": "702230f6-e6d3-44c7-a643-4996387606ff",
   "metadata": {
    "tags": []
   },
   "outputs": [],
   "source": []
  },
  {
   "cell_type": "markdown",
   "id": "dd511d44-2d92-47a0-9163-b25576c9557b",
   "metadata": {},
   "source": [
    "#### Load websites"
   ]
  },
  {
   "cell_type": "code",
   "execution_count": null,
   "id": "8aebf003-d7ec-43ba-8e04-1931bcff2866",
   "metadata": {
    "tags": []
   },
   "outputs": [],
   "source": []
  },
  {
   "cell_type": "code",
   "execution_count": null,
   "id": "99f41110-8ca7-4d90-93b2-3b5021c894b8",
   "metadata": {
    "tags": []
   },
   "outputs": [],
   "source": []
  },
  {
   "cell_type": "markdown",
   "id": "157ddd29-54b3-474a-9b10-2d274bc3254f",
   "metadata": {},
   "source": [
    "#### Merge both types of docs"
   ]
  },
  {
   "cell_type": "code",
   "execution_count": 7,
   "id": "8d361094-8b43-4351-8495-37628c35c42d",
   "metadata": {
    "tags": []
   },
   "outputs": [],
   "source": [
    "docs = pdf_docs"
   ]
  },
  {
   "cell_type": "markdown",
   "id": "4198fe0a-38bf-4cd4-af7d-35b41c645edd",
   "metadata": {},
   "source": [
    "#### Split documents into chunks with some overlap"
   ]
  },
  {
   "cell_type": "code",
   "execution_count": 8,
   "id": "edba4a08-2194-4df1-9091-6f2b596757a1",
   "metadata": {
    "tags": []
   },
   "outputs": [
    {
     "data": {
      "text/plain": [
       "Document(page_content='OpenShift Container Platform\\n \\n4.14\\n설치\\n \\n후\\n \\n구성\\nOpenShift Container Platform\\n의\\n Day 2 \\n운영\\nLast Updated: 2024-01-12', metadata={'source': 'rhocp-doc-4.14/openshift_container_platform-4.14-postinstallation_configuration-ko-kr.pdf', 'page': 0})"
      ]
     },
     "execution_count": 8,
     "metadata": {},
     "output_type": "execute_result"
    }
   ],
   "source": [
    "text_splitter = RecursiveCharacterTextSplitter(chunk_size=1024,\n",
    "                                               chunk_overlap=40)\n",
    "all_splits = text_splitter.split_documents(docs)\n",
    "all_splits[0]"
   ]
  },
  {
   "cell_type": "markdown",
   "id": "7ae7eae2-c670-4eb5-803b-b4d591fa83db",
   "metadata": {},
   "source": [
    "#### Create the index and ingest the documents"
   ]
  },
  {
   "cell_type": "code",
   "execution_count": 10,
   "id": "bbb6a3e3-5ccd-441e-b80d-427555d9e9f6",
   "metadata": {
    "tags": []
   },
   "outputs": [
    {
     "data": {
      "application/vnd.jupyter.widget-view+json": {
       "model_id": "063351d077124f93814d563ec1440fc0",
       "version_major": 2,
       "version_minor": 0
      },
      "text/plain": [
       "modules.json:   0%|          | 0.00/229 [00:00<?, ?B/s]"
      ]
     },
     "metadata": {},
     "output_type": "display_data"
    },
    {
     "data": {
      "application/vnd.jupyter.widget-view+json": {
       "model_id": "fb890d1953104b0198951e168b84b331",
       "version_major": 2,
       "version_minor": 0
      },
      "text/plain": [
       "config_sentence_transformers.json:   0%|          | 0.00/124 [00:00<?, ?B/s]"
      ]
     },
     "metadata": {},
     "output_type": "display_data"
    },
    {
     "data": {
      "application/vnd.jupyter.widget-view+json": {
       "model_id": "f02567f5e31b4d9a94ad68b2fa3a60c2",
       "version_major": 2,
       "version_minor": 0
      },
      "text/plain": [
       "README.md:   0%|          | 0.00/4.02k [00:00<?, ?B/s]"
      ]
     },
     "metadata": {},
     "output_type": "display_data"
    },
    {
     "data": {
      "application/vnd.jupyter.widget-view+json": {
       "model_id": "15918e782e9d4e0d9fb4acfd5d22df28",
       "version_major": 2,
       "version_minor": 0
      },
      "text/plain": [
       "sentence_bert_config.json:   0%|          | 0.00/53.0 [00:00<?, ?B/s]"
      ]
     },
     "metadata": {},
     "output_type": "display_data"
    },
    {
     "data": {
      "application/vnd.jupyter.widget-view+json": {
       "model_id": "0634f390fe46429a9f8697bfbae7c773",
       "version_major": 2,
       "version_minor": 0
      },
      "text/plain": [
       "config.json:   0%|          | 0.00/707 [00:00<?, ?B/s]"
      ]
     },
     "metadata": {},
     "output_type": "display_data"
    },
    {
     "data": {
      "application/vnd.jupyter.widget-view+json": {
       "model_id": "1b0df7a8c9f44f598a0d94f01a6fbd1b",
       "version_major": 2,
       "version_minor": 0
      },
      "text/plain": [
       "pytorch_model.bin:   0%|          | 0.00/467M [00:00<?, ?B/s]"
      ]
     },
     "metadata": {},
     "output_type": "display_data"
    },
    {
     "name": "stderr",
     "output_type": "stream",
     "text": [
      "/opt/app-root/lib64/python3.11/site-packages/torch/_utils.py:776: UserWarning: TypedStorage is deprecated. It will be removed in the future and UntypedStorage will be the only storage class. This should only matter to you if you are using storages directly.  To access UntypedStorage directly, use tensor.untyped_storage() instead of tensor.storage()\n",
      "  return self.fget.__get__(instance, owner)()\n"
     ]
    },
    {
     "data": {
      "application/vnd.jupyter.widget-view+json": {
       "model_id": "ceb0e8f7a15641b6aa60619036c13b6f",
       "version_major": 2,
       "version_minor": 0
      },
      "text/plain": [
       "tokenizer_config.json:   0%|          | 0.00/394 [00:00<?, ?B/s]"
      ]
     },
     "metadata": {},
     "output_type": "display_data"
    },
    {
     "data": {
      "application/vnd.jupyter.widget-view+json": {
       "model_id": "8fc6f7ccaa5e4e3982f9de509b787d3a",
       "version_major": 2,
       "version_minor": 0
      },
      "text/plain": [
       "vocab.txt:   0%|          | 0.00/336k [00:00<?, ?B/s]"
      ]
     },
     "metadata": {},
     "output_type": "display_data"
    },
    {
     "data": {
      "application/vnd.jupyter.widget-view+json": {
       "model_id": "363d7d8596e6440ba67aa5b4235c32ad",
       "version_major": 2,
       "version_minor": 0
      },
      "text/plain": [
       "tokenizer.json:   0%|          | 0.00/967k [00:00<?, ?B/s]"
      ]
     },
     "metadata": {},
     "output_type": "display_data"
    },
    {
     "data": {
      "application/vnd.jupyter.widget-view+json": {
       "model_id": "63bbb33e18174b77afa9faaae29dda58",
       "version_major": 2,
       "version_minor": 0
      },
      "text/plain": [
       "special_tokens_map.json:   0%|          | 0.00/112 [00:00<?, ?B/s]"
      ]
     },
     "metadata": {},
     "output_type": "display_data"
    },
    {
     "data": {
      "application/vnd.jupyter.widget-view+json": {
       "model_id": "638824fe64fd4200b47d5233f036cef1",
       "version_major": 2,
       "version_minor": 0
      },
      "text/plain": [
       "1_Pooling/config.json:   0%|          | 0.00/190 [00:00<?, ?B/s]"
      ]
     },
     "metadata": {},
     "output_type": "display_data"
    }
   ],
   "source": [
    "# If you don't want to use a GPU, you can remove the 'device': 'cuda' argument\n",
    "\n",
    "\n",
    "model_kwargs = {'trust_remote_code': True }\n",
    "embeddings = HuggingFaceEmbeddings(\n",
    "    model_name=\"snunlp/KR-SBERT-V40K-klueNLI-augSTS\",\n",
    "    model_kwargs=model_kwargs,\n",
    "    show_progress=True\n",
    ")\n",
    "\n",
    "\n",
    "db = Milvus(\n",
    "    embedding_function=embeddings,\n",
    "    connection_args={\"host\": MILVUS_HOST, \"port\": MILVUS_PORT, \"user\": MILVUS_USERNAME, \"password\": MILVUS_PASSWORD},\n",
    "    collection_name=MILVUS_COLLECTION,\n",
    "    metadata_field=\"metadata\",\n",
    "    text_field=\"page_content\",\n",
    "    auto_id=True,\n",
    "    drop_old=True\n",
    "    )"
   ]
  },
  {
   "cell_type": "code",
   "execution_count": null,
   "id": "b6bf425b-dffd-4f42-9537-49d41383182d",
   "metadata": {
    "tags": []
   },
   "outputs": [
    {
     "data": {
      "application/vnd.jupyter.widget-view+json": {
       "model_id": "6148a0aa368f4023b855f49af08a26da",
       "version_major": 2,
       "version_minor": 0
      },
      "text/plain": [
       "Batches:   0%|          | 0/200 [00:00<?, ?it/s]"
      ]
     },
     "metadata": {},
     "output_type": "display_data"
    }
   ],
   "source": [
    "db.add_documents(all_splits)"
   ]
  },
  {
   "cell_type": "markdown",
   "id": "7a3d987b-8ebc-46ce-a206-48c1339b7a5b",
   "metadata": {},
   "source": [
    "#### Alternatively, add new documents"
   ]
  },
  {
   "cell_type": "code",
   "execution_count": null,
   "id": "c37f227d-a13d-456c-b91b-3c203e62fc0f",
   "metadata": {},
   "outputs": [],
   "source": [
    "# If you don't want to use a GPU, you can remove the 'device': 'cuda' argument\n",
    "# model_kwargs = {'trust_remote_code': True, 'device': 'cuda'}\n",
    "# embeddings = HuggingFaceEmbeddings(\n",
    "#     model_name=\"nomic-ai/nomic-embed-text-v1\",\n",
    "#     model_kwargs=model_kwargs,\n",
    "#     show_progress=True\n",
    "# )\n",
    "\n",
    "# db = Milvus(\n",
    "#     embedding_function=embeddings,\n",
    "#     connection_args={\"host\": MILVUS_HOST, \"port\": MILVUS_PORT, \"user\": MILVUS_USERNAME, \"password\": MILVUS_PASSWORD},\n",
    "#     collection_name=MILVUS_COLLECTION,\n",
    "#     metadata_field=\"metadata\",\n",
    "#     text_field=\"page_content\",\n",
    "#     auto_id=True,\n",
    "#     drop_old=False\n",
    "#     )\n",
    "\n",
    "# db.add_documents(all_splits)"
   ]
  },
  {
   "cell_type": "markdown",
   "id": "dae3b458-4979-46df-8493-7496764a2568",
   "metadata": {},
   "source": [
    "#### Test query"
   ]
  },
  {
   "cell_type": "code",
   "execution_count": null,
   "id": "489c6e6d-c42c-4de4-87cf-8edfd0e63da3",
   "metadata": {
    "tags": []
   },
   "outputs": [],
   "source": [
    "query = \"How can I work with GPU and taints in OpenShift AI?\"\n",
    "docs_with_score = db.similarity_search_with_score(query)"
   ]
  },
  {
   "cell_type": "code",
   "execution_count": null,
   "id": "90feeb37-7888-4c5f-a5cb-5f82637cec16",
   "metadata": {
    "tags": []
   },
   "outputs": [],
   "source": [
    "for doc, score in docs_with_score:\n",
    "    print(\"-\" * 80)\n",
    "    print(\"Score: \", score)\n",
    "    print(doc.page_content)\n",
    "    print(\"-\" * 80)"
   ]
  }
 ],
 "metadata": {
  "kernelspec": {
   "display_name": "Python 3.11",
   "language": "python",
   "name": "python3"
  },
  "language_info": {
   "codemirror_mode": {
    "name": "ipython",
    "version": 3
   },
   "file_extension": ".py",
   "mimetype": "text/x-python",
   "name": "python",
   "nbconvert_exporter": "python",
   "pygments_lexer": "ipython3",
   "version": "3.11.4"
  },
  "toc-autonumbering": false,
  "toc-showcode": false,
  "toc-showmarkdowntxt": true
 },
 "nbformat": 4,
 "nbformat_minor": 5
}
